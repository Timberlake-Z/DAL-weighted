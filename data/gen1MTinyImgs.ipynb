{
 "cells": [
  {
   "cell_type": "code",
   "execution_count": 6,
   "id": "f583156e",
   "metadata": {},
   "outputs": [
    {
     "name": "stdout",
     "output_type": "stream",
     "text": [
      "CIFAR 重叠样本数量: 132409\n",
      "可用非重叠样本数量: 79169608\n",
      "已保存子集索引: ./tinyimages/tiny1M_clean_indices.npy\n",
      "已写入 0 张样本...\n",
      "已写入 10000 张样本...\n",
      "已写入 20000 张样本...\n",
      "已写入 30000 张样本...\n",
      "已写入 40000 张样本...\n",
      "已写入 50000 张样本...\n",
      "已写入 60000 张样本...\n",
      "已写入 70000 张样本...\n",
      "已写入 80000 张样本...\n",
      "已写入 90000 张样本...\n",
      "已写入 100000 张样本...\n",
      "已写入 110000 张样本...\n",
      "已写入 120000 张样本...\n",
      "已写入 130000 张样本...\n",
      "已写入 140000 张样本...\n",
      "已写入 150000 张样本...\n",
      "已写入 160000 张样本...\n",
      "已写入 170000 张样本...\n",
      "已写入 180000 张样本...\n",
      "已写入 190000 张样本...\n",
      "已写入 200000 张样本...\n",
      "已写入 210000 张样本...\n",
      "已写入 220000 张样本...\n",
      "已写入 230000 张样本...\n",
      "已写入 970000 张样本...\n",
      "已写入 980000 张样本...\n",
      "已写入 990000 张样本...\n",
      "✅ 已完成写入 1M 干净 TinyImages 子集到: ./tinyimages/tiny1M_clean_subset.bin\n"
     ]
    }
   ],
   "source": [
    "import numpy as np\n",
    "\n",
    "# === 用户可配置路径 ===\n",
    "tinyimages_bin_path = \"./tinyimages/tiny_images.bin\"  # TinyImages-80M 文件\n",
    "subset_bin_path = \"./tinyimages/tiny1M_clean_subset.bin\"             # 输出 1M 子集文件\n",
    "subset_indices_path = \"./tinyimages/tiny1M_clean_indices.npy\"        # 输出索引文件\n",
    "subset_size = 1000000                                   # 1M 子集\n",
    "\n",
    "# === 加载 cifar 重叠索引列表 ===\n",
    "cifar_idxs_path = \"../utils/80mn_cifar_idxs.txt\"\n",
    "with open(cifar_idxs_path, \"r\") as f:\n",
    "    cifar_idxs = set(int(line.strip()) - 1 for line in f)\n",
    "\n",
    "print(f\"CIFAR 重叠样本数量: {len(cifar_idxs)}\")\n",
    "\n",
    "# === 生成可选索引列表（非 CIFAR 重叠样本） ===\n",
    "total_images = 79302017\n",
    "all_indices = np.arange(total_images, dtype=np.int64)\n",
    "clean_indices = np.array([idx for idx in all_indices if idx not in cifar_idxs])\n",
    "print(f\"可用非重叠样本数量: {len(clean_indices)}\")\n",
    "\n",
    "# === 从 clean_indices 随机抽样 1M ===\n",
    "subset_indices = np.random.choice(clean_indices, size=subset_size, replace=False)\n",
    "np.save(subset_indices_path, subset_indices)\n",
    "print(f\"已保存子集索引: {subset_indices_path}\")\n",
    "\n",
    "# === 从全量 bin 文件中提取这些索引样本，写到新 bin 文件 ===\n",
    "img_size = 32 * 32 * 3  # 每张图片大小（uint8）\n",
    "with open(tinyimages_bin_path, \"rb\") as f_in, open(subset_bin_path, \"wb\") as f_out:\n",
    "    for i, idx in enumerate(subset_indices):\n",
    "        f_in.seek(idx * img_size)\n",
    "        data = f_in.read(img_size)\n",
    "        f_out.write(data)\n",
    "        if i % 10000 == 0:\n",
    "            print(f\"已写入 {i} 张样本...\")\n",
    "\n",
    "print(f\"✅ 已完成写入 1M 干净 TinyImages 子集到: {subset_bin_path}\")\n",
    "\n"
   ]
  },
  {
   "cell_type": "code",
   "execution_count": 3,
   "id": "74807109-b9cd-4c7e-a60b-adf246342256",
   "metadata": {},
   "outputs": [
    {
     "name": "stdout",
     "output_type": "stream",
     "text": [
      "/workspace/aaii/DAL/data\n"
     ]
    }
   ],
   "source": [
    "!pwd"
   ]
  },
  {
   "cell_type": "code",
   "execution_count": 4,
   "id": "b775cdac-03b8-4e6e-9440-54c5474c237a",
   "metadata": {},
   "outputs": [
    {
     "name": "stdout",
     "output_type": "stream",
     "text": [
      "LSUN\t dtd\t\t      iSUN\t\tplaces365  tinyimages\n",
      "cifarpy  gen1MTinyImgs.ipynb  importdata.ipynb\tsvhn\n"
     ]
    }
   ],
   "source": [
    "!ls"
   ]
  },
  {
   "cell_type": "code",
   "execution_count": null,
   "id": "d243edc5-c6e6-4e64-9cb4-a3db065dd6b1",
   "metadata": {},
   "outputs": [],
   "source": [
    "from utils.tinyimages_80mn_loader import TinyImages\n",
    "\n",
    "# 用新生成的 1M 子集\n",
    "tinyimages_bin_path = \"./tiny_images/tiny1M_clean_subset.bin\"\n",
    "\n",
    "# 加载 Dataset（不排除 CIFAR，因为已经干净了）\n",
    "dataset = TinyImages(transform=None, exclude_cifar=False)\n",
    "dataset.__len__ = lambda: 1000000  # 因为 1M 子集，改掉 loader 里的 __len__\n",
    "\n",
    "# 直接输出数量\n",
    "print(\"图像总数:\", len(dataset))"
   ]
  }
 ],
 "metadata": {
  "kernelspec": {
   "display_name": "DAL Env",
   "language": "python",
   "name": "dal-env"
  },
  "language_info": {
   "codemirror_mode": {
    "name": "ipython",
    "version": 3
   },
   "file_extension": ".py",
   "mimetype": "text/x-python",
   "name": "python",
   "nbconvert_exporter": "python",
   "pygments_lexer": "ipython3",
   "version": "3.7.10"
  }
 },
 "nbformat": 4,
 "nbformat_minor": 5
}
